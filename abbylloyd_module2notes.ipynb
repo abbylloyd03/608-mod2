{
 "cells": [
  {
   "cell_type": "markdown",
   "id": "6ad3e971-953d-46e4-9425-445f61581ff9",
   "metadata": {},
   "source": [
    "# Module 2: Project 2"
   ]
  },
  {
   "cell_type": "markdown",
   "id": "08b37d33-7652-46d5-bbb5-9a9ae308d8d8",
   "metadata": {},
   "source": [
    "## #6. Calculate Measures of Central Tendency - Native Python"
   ]
  },
  {
   "cell_type": "code",
   "execution_count": 12,
   "id": "b5520187-7f19-47a5-90c3-34c508c04741",
   "metadata": {},
   "outputs": [
    {
     "name": "stdout",
     "output_type": "stream",
     "text": [
      "count: 6\n",
      "sum: 475\n",
      "mean: 79.16666666666667\n"
     ]
    }
   ],
   "source": [
    "list = [47, 95, 88, 73, 88, 84]\n",
    "\n",
    "count1 = len(list)\n",
    "\n",
    "sum_values1 = sum(list)\n",
    "\n",
    "mean1 = sum_values1 / count1\n",
    "\n",
    "print(f'count: {count1}')\n",
    "print(f'sum: {sum_values1}')\n",
    "print(f'mean: {mean1}')"
   ]
  },
  {
   "cell_type": "markdown",
   "id": "828b40f3-8cca-4b6d-b167-8662bf90a2ab",
   "metadata": {},
   "source": [
    "## #7. Calculate Measures of Central Tendency - with Statistic Module"
   ]
  },
  {
   "cell_type": "code",
   "execution_count": 13,
   "id": "ea7b7c78-b879-45aa-96df-240fd17aed3c",
   "metadata": {},
   "outputs": [
    {
     "name": "stdout",
     "output_type": "stream",
     "text": [
      "Mean:  79.16666666666667\n",
      "Median:  86.0\n",
      "Mode:  88\n"
     ]
    }
   ],
   "source": [
    "import statistics\n",
    "\n",
    "print('Mean: ', statistics.mean(list))\n",
    "print('Median: ', statistics.median(list))\n",
    "print('Mode: ', statistics.mode(list))"
   ]
  },
  {
   "cell_type": "markdown",
   "id": "ac491387-7f95-4173-a9e0-0891efd0f4a0",
   "metadata": {},
   "source": [
    "## #8. Custom Central Tendency / Abby Lloyd"
   ]
  },
  {
   "cell_type": "markdown",
   "id": "ea0bd145-2565-418f-81d4-34a49a888d01",
   "metadata": {},
   "source": [
    "Patrick Mahomes' yards per game - 2021/2022 Season."
   ]
  },
  {
   "cell_type": "code",
   "execution_count": 14,
   "id": "ca72bdb1-cf58-4889-8857-5c31377f3ed9",
   "metadata": {},
   "outputs": [
    {
     "name": "stdout",
     "output_type": "stream",
     "text": [
      "Patrick Mahomes Statistics, 2021-2022\n",
      "Games played (count): 18\n",
      "Total yards (sum): 5243\n",
      "Average yards per game (mean): 291.27777777777777\n",
      "Median: 271.0\n",
      "Mode: 258\n"
     ]
    }
   ],
   "source": [
    "mahomes_ypg = [404, 270, 259, 258, 410, 258, 184, 260, 406, 166, 275, 206, 397, 272, 278, 260, 343, 337]\n",
    "\n",
    "games = len(mahomes_ypg)\n",
    "total_yards = sum(mahomes_ypg)\n",
    "average_ypg = statistics.mean(mahomes_ypg)\n",
    "median = statistics.median(mahomes_ypg)\n",
    "mode = statistics.mode(mahomes_ypg)\n",
    "\n",
    "print('Patrick Mahomes Statistics, 2021-2022')\n",
    "print(f'Games played (count): {games}')\n",
    "print(f'Total yards (sum): {total_yards}')\n",
    "print(f'Average yards per game (mean): {average_ypg}')\n",
    "print(f'Median: {median}')\n",
    "print(f'Mode: {mode}')"
   ]
  },
  {
   "cell_type": "markdown",
   "id": "9ef1d46c-5478-42a9-b739-4c3e0f1d61a9",
   "metadata": {},
   "source": [
    "## -----------------  Chapter 3 Notes and Practice --------------------"
   ]
  },
  {
   "cell_type": "markdown",
   "id": "28677a5d-3034-4a20-b668-f89d62588b23",
   "metadata": {},
   "source": [
    "### 3.3 Self-Check"
   ]
  },
  {
   "cell_type": "code",
   "execution_count": 15,
   "id": "e7f05ff4-46ad-4fb6-b8a2-4bbfdd79e9b2",
   "metadata": {},
   "outputs": [
    {
     "name": "stdin",
     "output_type": "stream",
     "text": [
      "Enter first integer:  34\n",
      "Enter second integer:  23\n"
     ]
    },
    {
     "name": "stdout",
     "output_type": "stream",
     "text": [
      "Sum =  57\n"
     ]
    }
   ],
   "source": [
    "number1 = int(input('Enter first integer: '))\n",
    "\n",
    "number2 = int(input('Enter second integer: '))\n",
    "\n",
    "sum1 = number1 + number2\n",
    "print('Sum = ', sum1)"
   ]
  },
  {
   "cell_type": "markdown",
   "id": "bd6f6493-0cd0-4d48-9540-6dd9a8a79b3b",
   "metadata": {},
   "source": [
    "### 3.5 Self Check"
   ]
  },
  {
   "cell_type": "code",
   "execution_count": 16,
   "id": "14306928-e502-4cbd-a39a-2dcd5bfb5daf",
   "metadata": {},
   "outputs": [
    {
     "name": "stdout",
     "output_type": "stream",
     "text": [
      "Passed\n"
     ]
    }
   ],
   "source": [
    "grade = 85\n",
    "\n",
    "if grade >= 60:\n",
    "    print('Passed')\n",
    "\n",
    "grade = 55\n",
    "\n",
    "if grade >= 60:\n",
    "    print('Passed')"
   ]
  },
  {
   "cell_type": "markdown",
   "id": "82fe44e3-c039-419b-9501-cad86b9ff095",
   "metadata": {},
   "source": [
    "### 3.6 Practice"
   ]
  },
  {
   "cell_type": "markdown",
   "id": "c15372d8-59ff-4797-80f2-a97f3c37e043",
   "metadata": {},
   "source": [
    "**If...else Statement**"
   ]
  },
  {
   "cell_type": "code",
   "execution_count": 17,
   "id": "23b8d0d0-7557-4f02-a790-2488c55c3fcc",
   "metadata": {},
   "outputs": [
    {
     "name": "stdout",
     "output_type": "stream",
     "text": [
      "Passed\n"
     ]
    }
   ],
   "source": [
    "grade = 85\n",
    "\n",
    "if grade >= 60:\n",
    "    print('Passed')\n",
    "else: \n",
    "    print('Failed')"
   ]
  },
  {
   "cell_type": "code",
   "execution_count": 18,
   "id": "02772717-eca4-4f66-aaec-42b60a0444fb",
   "metadata": {},
   "outputs": [
    {
     "name": "stdout",
     "output_type": "stream",
     "text": [
      "Failed\n"
     ]
    }
   ],
   "source": [
    "grade = 57\n",
    "\n",
    "if grade >= 60:\n",
    "    print('Passed')\n",
    "else:\n",
    "    print('Failed')"
   ]
  },
  {
   "cell_type": "code",
   "execution_count": 19,
   "id": "e6d932bf-4738-42fd-a9a1-e85a35508cbb",
   "metadata": {},
   "outputs": [
    {
     "name": "stdout",
     "output_type": "stream",
     "text": [
      "Passed\n"
     ]
    }
   ],
   "source": [
    "grade = 99\n",
    "\n",
    "if grade >= 60:\n",
    "    print('Passed')\n",
    "else:\n",
    "    print('Failed')"
   ]
  },
  {
   "cell_type": "code",
   "execution_count": 20,
   "id": "83721ff7-6313-4f86-add2-7de5f8d7fe5d",
   "metadata": {},
   "outputs": [
    {
     "data": {
      "text/plain": [
       "'Passed'"
      ]
     },
     "execution_count": 20,
     "metadata": {},
     "output_type": "execute_result"
    }
   ],
   "source": [
    "grade = 87\n",
    "\n",
    "if grade >= 60:\n",
    "    result = 'Passed'\n",
    "else:\n",
    "    result = 'Failed'\n",
    "    \n",
    "result"
   ]
  },
  {
   "cell_type": "markdown",
   "id": "f116fbf6-759e-44e7-94f6-a52b99dad543",
   "metadata": {},
   "source": [
    "Same as above, except using a **concise conditional expression.** The parentheses are not required, but they make the statement more clear."
   ]
  },
  {
   "cell_type": "code",
   "execution_count": 21,
   "id": "d5ddf5bd-8b60-44e4-8688-53ddd06b00e7",
   "metadata": {},
   "outputs": [
    {
     "data": {
      "text/plain": [
       "'Passed'"
      ]
     },
     "execution_count": 21,
     "metadata": {},
     "output_type": "execute_result"
    }
   ],
   "source": [
    "result = ('Passed' if grade >= 60 else 'Failed')\n",
    "\n",
    "result"
   ]
  },
  {
   "cell_type": "code",
   "execution_count": 22,
   "id": "f2321a03-2573-468c-8168-42ca93b5163a",
   "metadata": {},
   "outputs": [
    {
     "name": "stdout",
     "output_type": "stream",
     "text": [
      "Failed\n",
      "You must take this course again\n"
     ]
    }
   ],
   "source": [
    "grade = 49\n",
    "\n",
    "if grade >= 60:\n",
    "    print('Passed')\n",
    "else:\n",
    "    print('Failed')\n",
    "    print('You must take this course again')"
   ]
  },
  {
   "cell_type": "markdown",
   "id": "b4b1c192-726b-4966-b4ef-5fc2842d9b25",
   "metadata": {},
   "source": [
    "**If you do not indent the second print statement...**"
   ]
  },
  {
   "cell_type": "code",
   "execution_count": 23,
   "id": "b3a16cb6-7f53-4d91-9652-9b65cc27bcf9",
   "metadata": {},
   "outputs": [
    {
     "name": "stdout",
     "output_type": "stream",
     "text": [
      "Passed\n",
      "You must take this course again\n"
     ]
    }
   ],
   "source": [
    "grade = 100\n",
    "\n",
    "if grade >= 60:\n",
    "    print('Passed')\n",
    "else:\n",
    "    print('Failed')\n",
    "print('You must take this course again')"
   ]
  },
  {
   "cell_type": "markdown",
   "id": "0647e622-f073-41f5-a3c4-b29b956bda86",
   "metadata": {},
   "source": [
    "**if...elif...else statement**"
   ]
  },
  {
   "cell_type": "markdown",
   "id": "10947176-e3c7-4f21-aed7-57ddc1b0b220",
   "metadata": {},
   "source": [
    "**Note:** The else statement is optional."
   ]
  },
  {
   "cell_type": "code",
   "execution_count": 24,
   "id": "fdaf6646-c0db-400c-b009-1c124c59e5bc",
   "metadata": {},
   "outputs": [
    {
     "name": "stdout",
     "output_type": "stream",
     "text": [
      "C\n"
     ]
    }
   ],
   "source": [
    "grade = 77\n",
    "\n",
    "if grade >= 90:\n",
    "    print('A')\n",
    "elif grade >= 80:\n",
    "    print('B')\n",
    "elif grade >= 70:\n",
    "    print('C')\n",
    "elif grade >=60:\n",
    "    print('D')\n",
    "else:\n",
    "    print('F')"
   ]
  },
  {
   "cell_type": "markdown",
   "id": "55eda1e7-d727-448b-9ae0-1fa9d0bde16b",
   "metadata": {},
   "source": [
    "**A SyntaxError occurs if an else is placed before the last elif**"
   ]
  },
  {
   "cell_type": "markdown",
   "id": "42ef0a81-a128-4441-a45e-2fd10b58850a",
   "metadata": {},
   "source": [
    "### 3.7 Practice"
   ]
  },
  {
   "cell_type": "markdown",
   "id": "8519d563-bfa7-4bd7-9c8c-4a937e608ec9",
   "metadata": {},
   "source": [
    "**While Statement**"
   ]
  },
  {
   "cell_type": "code",
   "execution_count": 25,
   "id": "d3215084-5d56-4581-9824-eb1b503d923b",
   "metadata": {},
   "outputs": [
    {
     "data": {
      "text/plain": [
       "81"
      ]
     },
     "execution_count": 25,
     "metadata": {},
     "output_type": "execute_result"
    }
   ],
   "source": [
    "product = 3\n",
    "\n",
    "while product <= 75:\n",
    "    product = product * 3\n",
    "    \n",
    "product"
   ]
  },
  {
   "cell_type": "markdown",
   "id": "087d1f58-d772-4d72-863a-47f3369fbffd",
   "metadata": {},
   "source": [
    "**Note:** If a while statement never terminates an infinite loop occurs. Command + C to stop program's execution."
   ]
  },
  {
   "cell_type": "code",
   "execution_count": 26,
   "id": "e0e545d1-2caa-4f41-a5c6-24fb8d269f04",
   "metadata": {},
   "outputs": [
    {
     "data": {
      "text/plain": [
       "2401"
      ]
     },
     "execution_count": 26,
     "metadata": {},
     "output_type": "execute_result"
    }
   ],
   "source": [
    "product = 7\n",
    "\n",
    "while product <= 1000:\n",
    "    product = product * 7\n",
    "    \n",
    "product"
   ]
  },
  {
   "cell_type": "markdown",
   "id": "21f4edfc-a8cb-4d8e-9dba-3f3d279c7385",
   "metadata": {},
   "source": [
    "### 3.8 Practice"
   ]
  },
  {
   "cell_type": "markdown",
   "id": "ee44fb22-1a94-41e5-b84d-8d4f1fa9664e",
   "metadata": {},
   "source": [
    "**For Statements**"
   ]
  },
  {
   "cell_type": "code",
   "execution_count": 27,
   "id": "30a564d1-2b5c-4bca-b4c2-f99b91c7f9d9",
   "metadata": {},
   "outputs": [
    {
     "name": "stdout",
     "output_type": "stream",
     "text": [
      "P  r  o  g  r  a  m  m  i  n  g  "
     ]
    }
   ],
   "source": [
    "for character in 'Programming':\n",
    "    print(character, end='  ')"
   ]
  },
  {
   "cell_type": "markdown",
   "id": "72ee22e0-99c4-4f5d-9279-5a2e9ae646c4",
   "metadata": {},
   "source": [
    "**Iterables, Lists, and Iterators**"
   ]
  },
  {
   "cell_type": "code",
   "execution_count": 28,
   "id": "ee42cfab-f32d-437d-8755-6cb8ddc97b5c",
   "metadata": {},
   "outputs": [
    {
     "data": {
      "text/plain": [
       "25"
      ]
     },
     "execution_count": 28,
     "metadata": {},
     "output_type": "execute_result"
    }
   ],
   "source": [
    "total = 0\n",
    "\n",
    "for number in [2, -3, 0, 17, 9]:\n",
    "    total = total + number\n",
    "    \n",
    "total"
   ]
  },
  {
   "cell_type": "markdown",
   "id": "e22d3999-ff97-4871-b978-4d22af88a08e",
   "metadata": {},
   "source": [
    "**Built-In Range Function**"
   ]
  },
  {
   "cell_type": "code",
   "execution_count": 29,
   "id": "6d8e6383-2681-4a86-a197-fe18b00c6696",
   "metadata": {},
   "outputs": [
    {
     "name": "stdout",
     "output_type": "stream",
     "text": [
      "0  1  2  3  4  5  6  7  8  9  "
     ]
    }
   ],
   "source": [
    "for counter in range(10):\n",
    "    print(counter, end='  ')"
   ]
  },
  {
   "cell_type": "markdown",
   "id": "19d9abab-c216-4933-9d5d-24dd372cd5db",
   "metadata": {},
   "source": [
    "### 3.8 Self Check"
   ]
  },
  {
   "cell_type": "code",
   "execution_count": 30,
   "id": "22c2a386-8b74-49c0-9140-811556cbbe0d",
   "metadata": {},
   "outputs": [
    {
     "data": {
      "text/plain": [
       "500000500000"
      ]
     },
     "execution_count": 30,
     "metadata": {},
     "output_type": "execute_result"
    }
   ],
   "source": [
    "total = 0\n",
    "for counter in range(1000001):\n",
    "    total = total + counter\n",
    "\n",
    "total"
   ]
  },
  {
   "cell_type": "markdown",
   "id": "c3c70c5d-0b57-49a4-b983-f6c21c5111f1",
   "metadata": {},
   "source": [
    "### 3.9 Augmented Assignments"
   ]
  },
  {
   "cell_type": "markdown",
   "id": "02c66211-3881-4081-bab4-dab6cbfbe4f5",
   "metadata": {},
   "source": [
    "**Augmented assignments abbreviate expressions in which the same variable name appears on the left and right of the assignment's =**"
   ]
  },
  {
   "cell_type": "code",
   "execution_count": 31,
   "id": "5eb80e3e-0ae7-443a-9a11-29bb1206aa7d",
   "metadata": {},
   "outputs": [
    {
     "data": {
      "text/plain": [
       "15"
      ]
     },
     "execution_count": 31,
     "metadata": {},
     "output_type": "execute_result"
    }
   ],
   "source": [
    "total = 0\n",
    "\n",
    "for number in range(6):\n",
    "    total += number #add number to total\n",
    "\n",
    "total"
   ]
  },
  {
   "cell_type": "markdown",
   "id": "ddbad8ae-e42d-4471-9638-7b176d22ffd1",
   "metadata": {},
   "source": [
    "### 3.9 Self Check"
   ]
  },
  {
   "cell_type": "code",
   "execution_count": 32,
   "id": "881c30de-acea-436e-9f3d-e1f262a2289e",
   "metadata": {},
   "outputs": [
    {
     "data": {
      "text/plain": [
       "144"
      ]
     },
     "execution_count": 32,
     "metadata": {},
     "output_type": "execute_result"
    }
   ],
   "source": [
    "x = 12\n",
    "\n",
    "x **= 2\n",
    "\n",
    "x"
   ]
  },
  {
   "cell_type": "markdown",
   "id": "862990cb-9968-4d35-821e-3d34ba0ae320",
   "metadata": {},
   "source": [
    "### 3.10 Program Development: Sequence-Controlled Repitition"
   ]
  },
  {
   "cell_type": "code",
   "execution_count": 33,
   "id": "d9b9355c-6246-465d-b760-4e375825edcf",
   "metadata": {},
   "outputs": [
    {
     "name": "stdout",
     "output_type": "stream",
     "text": [
      "Class average is 81.7\n"
     ]
    }
   ],
   "source": [
    "#initialization phase\n",
    "total = 0\n",
    "grade_counter = 0\n",
    "grades = [98, 76, 71, 87, 83, 90, 57, 79, 82, 94]\n",
    "\n",
    "#processing phase\n",
    "for grade in grades:\n",
    "    total += grade\n",
    "    grade_counter += 1\n",
    "    \n",
    "#termination phase\n",
    "average = total / grade_counter\n",
    "print(f'Class average is {average}')"
   ]
  },
  {
   "cell_type": "markdown",
   "id": "f2411ef6-04dd-431b-b755-7f5519365b3a",
   "metadata": {},
   "source": [
    "### 3.10 Self Check: F-String"
   ]
  },
  {
   "cell_type": "code",
   "execution_count": 34,
   "id": "9179515c-cb18-41b8-96b3-0da19da34250",
   "metadata": {},
   "outputs": [
    {
     "name": "stdout",
     "output_type": "stream",
     "text": [
      "7 times 5 is 35\n"
     ]
    }
   ],
   "source": [
    "number1 = 7\n",
    "number2 = 5\n",
    "sum = number1 * number2\n",
    "\n",
    "print(f'{number1} times {number2} is {sum}')"
   ]
  },
  {
   "cell_type": "markdown",
   "id": "ad48465e-a66e-4e18-8b38-3fc61d044d03",
   "metadata": {},
   "source": [
    "### 3.12 Self Check: Nested if...else statement"
   ]
  },
  {
   "cell_type": "code",
   "execution_count": 35,
   "id": "87c301c3-d702-4392-8785-eb7bd632b67b",
   "metadata": {},
   "outputs": [
    {
     "name": "stdin",
     "output_type": "stream",
     "text": [
      "Enter an integer:  23\n"
     ]
    },
    {
     "name": "stdout",
     "output_type": "stream",
     "text": [
      "23 is odd\n"
     ]
    },
    {
     "name": "stdin",
     "output_type": "stream",
     "text": [
      "Enter an integer:  34\n"
     ]
    },
    {
     "name": "stdout",
     "output_type": "stream",
     "text": [
      "34 is even\n"
     ]
    }
   ],
   "source": [
    "for integer in range(2):\n",
    "    integer = int(input('Enter an integer: '))\n",
    "    \n",
    "    if integer % 2 == 0:\n",
    "        print(f'{integer} is even')\n",
    "    else:\n",
    "        print(f'{integer} is odd')"
   ]
  },
  {
   "cell_type": "markdown",
   "id": "76fe8046-52ff-4953-b5dc-d4d8554576c8",
   "metadata": {},
   "source": [
    "### 3.13 Built-in Function range"
   ]
  },
  {
   "cell_type": "code",
   "execution_count": 36,
   "id": "24fedf14-c1ba-4b21-83be-ad9f7b0f0778",
   "metadata": {},
   "outputs": [
    {
     "name": "stdout",
     "output_type": "stream",
     "text": [
      "5 6 7 8 9 "
     ]
    }
   ],
   "source": [
    "for number in range(5,10):\n",
    "    print(number, end=' ')"
   ]
  },
  {
   "cell_type": "code",
   "execution_count": 37,
   "id": "b1ac3bc7-c939-4fe4-ada0-b476cf48dbe7",
   "metadata": {},
   "outputs": [
    {
     "name": "stdout",
     "output_type": "stream",
     "text": [
      "0 2 4 6 8 "
     ]
    }
   ],
   "source": [
    "for number in range(0, 10, 2):\n",
    "    print(number, end=' ')"
   ]
  },
  {
   "cell_type": "code",
   "execution_count": 38,
   "id": "a4fccc7a-9960-4e76-999e-7178e5af1040",
   "metadata": {},
   "outputs": [
    {
     "name": "stdout",
     "output_type": "stream",
     "text": [
      "10 8 6 4 2 "
     ]
    }
   ],
   "source": [
    "for number in range(10, 0, -2):\n",
    "    print(number, end=' ')"
   ]
  },
  {
   "cell_type": "markdown",
   "id": "9267adf9-5820-4420-949e-fa84bae65f9e",
   "metadata": {},
   "source": [
    "### 3.13 Self Check"
   ]
  },
  {
   "cell_type": "code",
   "execution_count": 39,
   "id": "494d645c-cef2-4761-bf7d-e7a4ea2ee756",
   "metadata": {},
   "outputs": [
    {
     "name": "stdout",
     "output_type": "stream",
     "text": [
      "99 88 77 66 55 44 33 22 11 0 "
     ]
    }
   ],
   "source": [
    "for number in range(99, -1, -11):\n",
    "    print(number, end=' ')"
   ]
  },
  {
   "cell_type": "code",
   "execution_count": 40,
   "id": "25ad30ed-8c4b-431c-848c-f9db5fcdf3d6",
   "metadata": {},
   "outputs": [
    {
     "name": "stdout",
     "output_type": "stream",
     "text": [
      "2550\n"
     ]
    }
   ],
   "source": [
    "sum =0\n",
    "\n",
    "for number in range(2, 101, 2):\n",
    "    sum += number\n",
    "\n",
    "print(sum)"
   ]
  },
  {
   "cell_type": "markdown",
   "id": "b70623b4-313a-46d4-b39d-4992cfb1f40e",
   "metadata": {},
   "source": [
    "### 3.14 Using Type Decimal for Monetary Amounts"
   ]
  },
  {
   "cell_type": "markdown",
   "id": "14d1763e-b45d-4e70-b4b0-e8cc90d6e2a0",
   "metadata": {},
   "source": [
    "**You may perform arithmetic between Decimals and integers, but not between Decimals and floating-point numbers**"
   ]
  },
  {
   "cell_type": "code",
   "execution_count": 41,
   "id": "0293e84f-bd86-424f-b316-fc040cf868df",
   "metadata": {},
   "outputs": [
    {
     "data": {
      "text/plain": [
       "Decimal('0.05')"
      ]
     },
     "execution_count": 41,
     "metadata": {},
     "output_type": "execute_result"
    }
   ],
   "source": [
    "from decimal import Decimal\n",
    "\n",
    "principal = Decimal('1000.00')\n",
    "\n",
    "rate = Decimal('0.05')\n",
    "\n",
    "rate"
   ]
  },
  {
   "cell_type": "code",
   "execution_count": 42,
   "id": "d6797674-7822-4489-80b1-e897104afd96",
   "metadata": {},
   "outputs": [
    {
     "name": "stdout",
     "output_type": "stream",
     "text": [
      " 1   1050.00\n",
      " 2   1102.50\n",
      " 3   1157.62\n",
      " 4   1215.51\n",
      " 5   1276.28\n",
      " 6   1340.10\n",
      " 7   1407.10\n",
      " 8   1477.46\n",
      " 9   1551.33\n",
      "10   1628.89\n"
     ]
    }
   ],
   "source": [
    "for year in range(1, 11):\n",
    "    amount = principal * (1 + rate) ** year\n",
    "    print(f'{year:>2}{amount:>10.2f}')"
   ]
  },
  {
   "cell_type": "markdown",
   "id": "02f4dcbf-459c-47fb-ab2d-a63d54805ede",
   "metadata": {},
   "source": [
    "**{year:>2}** indicates that year's value should be right aligned (>) in a field field of width 2"
   ]
  },
  {
   "cell_type": "markdown",
   "id": "06cabbc3-496b-4796-9447-94f28b7bbae2",
   "metadata": {},
   "source": [
    "**{amount:>10.2f}** formats amount as a floating-point number right aligned in a field of 10 with a decimal point and two digits to the right of the decimal point. Formatting the amounts this way aligns their decimal points vertically."
   ]
  },
  {
   "cell_type": "markdown",
   "id": "dedfaebf-7482-4d44-b401-78b03c278520",
   "metadata": {},
   "source": [
    "### 3.14 Self Check"
   ]
  },
  {
   "cell_type": "code",
   "execution_count": 43,
   "id": "a2f7c207-2e33-4ea7-b154-2d8b7e597e66",
   "metadata": {},
   "outputs": [
    {
     "name": "stdout",
     "output_type": "stream",
     "text": [
      "Total: $39.79\n"
     ]
    }
   ],
   "source": [
    "tax = Decimal('0.0625')\n",
    "bill = Decimal('37.45')\n",
    "               \n",
    "total = bill * (1 + tax)\n",
    "               \n",
    "print(f'Total: ${total:.2f}')"
   ]
  },
  {
   "cell_type": "markdown",
   "id": "de0b3e81-edb5-4788-b9e0-3d146951a42f",
   "metadata": {},
   "source": [
    "### 3.15 break and continue statements"
   ]
  },
  {
   "cell_type": "code",
   "execution_count": 44,
   "id": "2e9beacc-10e5-4099-9801-6c76a4da0077",
   "metadata": {},
   "outputs": [
    {
     "name": "stdout",
     "output_type": "stream",
     "text": [
      "0 1 2 3 4 5 6 7 8 9 "
     ]
    }
   ],
   "source": [
    "for number in range(100):\n",
    "    if number == 10:\n",
    "        break\n",
    "    print(number, end=' ')"
   ]
  },
  {
   "cell_type": "code",
   "execution_count": 45,
   "id": "fc0b82e2-9ad6-4620-9592-ea58a69dd8e5",
   "metadata": {},
   "outputs": [
    {
     "name": "stdout",
     "output_type": "stream",
     "text": [
      "0 1 2 3 4 6 7 8 9 "
     ]
    }
   ],
   "source": [
    "for number in range(10):\n",
    "    if number == 5:\n",
    "        continue\n",
    "    print(number, end=' ')"
   ]
  },
  {
   "cell_type": "markdown",
   "id": "63f202f0-47ca-4ad3-9095-c6d30dd8afda",
   "metadata": {},
   "source": [
    "### 3.16 Boolean Operators and, or and not"
   ]
  },
  {
   "cell_type": "markdown",
   "id": "1f3ec344-c050-48e5-9a89-bf01b3efec54",
   "metadata": {},
   "source": [
    "In **and** expressions make the conditions that's more likely to be False the leftmost condition. In **or** expressions make the condition that's more likely to be True the leftmost condition. This speeds up execution time."
   ]
  },
  {
   "cell_type": "code",
   "execution_count": 46,
   "id": "d48e976b-fd51-4e52-b00f-52a4ad1f0536",
   "metadata": {},
   "outputs": [
    {
     "name": "stdout",
     "output_type": "stream",
     "text": [
      "Senior female\n"
     ]
    }
   ],
   "source": [
    "gender = 'Female'\n",
    "\n",
    "age = 70\n",
    "\n",
    "if gender == 'Female' and age >= 65:\n",
    "    print('Senior female')"
   ]
  },
  {
   "cell_type": "code",
   "execution_count": 47,
   "id": "12435498-902d-4f23-a661-ee6618705f99",
   "metadata": {},
   "outputs": [
    {
     "name": "stdout",
     "output_type": "stream",
     "text": [
      "Student gets an A\n"
     ]
    }
   ],
   "source": [
    "semester_average = 83\n",
    "\n",
    "final_exam = 95\n",
    "\n",
    "if semester_average >= 90 or final_exam >= 90:\n",
    "    print('Student gets an A')"
   ]
  },
  {
   "cell_type": "code",
   "execution_count": 48,
   "id": "4a8619f5-dc2e-4807-b917-c843b1f2b6aa",
   "metadata": {},
   "outputs": [
    {
     "name": "stdout",
     "output_type": "stream",
     "text": [
      "The next grade is 87\n"
     ]
    }
   ],
   "source": [
    "grade = 87\n",
    "\n",
    "if not grade == -1:\n",
    "    print('The next grade is', grade)"
   ]
  },
  {
   "cell_type": "code",
   "execution_count": 49,
   "id": "765afdc6-90dd-4789-ae9b-7484fc32ac96",
   "metadata": {},
   "outputs": [
    {
     "name": "stdout",
     "output_type": "stream",
     "text": [
      "The next grade is 87\n"
     ]
    }
   ],
   "source": [
    "if grade != -1:\n",
    "    print('The next grade is', grade)"
   ]
  },
  {
   "cell_type": "markdown",
   "id": "912e8640-bcd1-497c-8db6-22ab1563db7b",
   "metadata": {},
   "source": [
    "### Module 3.16 Self Check"
   ]
  },
  {
   "cell_type": "code",
   "execution_count": 50,
   "id": "49bafb49-b10e-4b76-b2b4-956f37a67768",
   "metadata": {},
   "outputs": [],
   "source": [
    "i = 1\n",
    "j = 2\n",
    "k = 3\n",
    "m = 2"
   ]
  },
  {
   "cell_type": "code",
   "execution_count": 51,
   "id": "92d4f4f9-f212-42cd-acf2-e67aedb11c1c",
   "metadata": {},
   "outputs": [
    {
     "data": {
      "text/plain": [
       "True"
      ]
     },
     "execution_count": 51,
     "metadata": {},
     "output_type": "execute_result"
    }
   ],
   "source": [
    "(i >= 1) and (j < 4)"
   ]
  },
  {
   "cell_type": "code",
   "execution_count": 52,
   "id": "83d3d3f3-61d5-4748-8ebc-2e3167940317",
   "metadata": {},
   "outputs": [
    {
     "data": {
      "text/plain": [
       "False"
      ]
     },
     "execution_count": 52,
     "metadata": {},
     "output_type": "execute_result"
    }
   ],
   "source": [
    "(m <= 99) and (k < m)"
   ]
  },
  {
   "cell_type": "code",
   "execution_count": 53,
   "id": "7d375b9a-2484-4519-ba2f-3fc974b4803f",
   "metadata": {},
   "outputs": [
    {
     "data": {
      "text/plain": [
       "True"
      ]
     },
     "execution_count": 53,
     "metadata": {},
     "output_type": "execute_result"
    }
   ],
   "source": [
    "(j >= i) or (k == m)"
   ]
  },
  {
   "cell_type": "code",
   "execution_count": 54,
   "id": "bfb29f55-8b62-4464-a0e1-07ff5a56bc1e",
   "metadata": {},
   "outputs": [
    {
     "data": {
      "text/plain": [
       "False"
      ]
     },
     "execution_count": 54,
     "metadata": {},
     "output_type": "execute_result"
    }
   ],
   "source": [
    "(k + m < j) or (3 - j >= k)"
   ]
  },
  {
   "cell_type": "code",
   "execution_count": 55,
   "id": "c8d381f5-6b21-45d0-bb68-acfe7b9b0ec0",
   "metadata": {},
   "outputs": [
    {
     "data": {
      "text/plain": [
       "False"
      ]
     },
     "execution_count": 55,
     "metadata": {},
     "output_type": "execute_result"
    }
   ],
   "source": [
    "not (k > m)"
   ]
  }
 ],
 "metadata": {
  "kernelspec": {
   "display_name": "Python 3 (ipykernel)",
   "language": "python",
   "name": "python3"
  },
  "language_info": {
   "codemirror_mode": {
    "name": "ipython",
    "version": 3
   },
   "file_extension": ".py",
   "mimetype": "text/x-python",
   "name": "python",
   "nbconvert_exporter": "python",
   "pygments_lexer": "ipython3",
   "version": "3.9.7"
  }
 },
 "nbformat": 4,
 "nbformat_minor": 5
}
