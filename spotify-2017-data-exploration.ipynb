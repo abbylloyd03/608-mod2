{
 "cells": [
  {
   "cell_type": "code",
   "execution_count": 1,
   "id": "60473f00",
   "metadata": {
    "_cell_guid": "b1076dfc-b9ad-4769-8c92-a6c4dae69d19",
    "_uuid": "8f2839f25d086af736a60e9eeb907d3b93b6e0e5",
    "execution": {
     "iopub.execute_input": "2022-02-14T17:27:16.409549Z",
     "iopub.status.busy": "2022-02-14T17:27:16.408855Z",
     "iopub.status.idle": "2022-02-14T17:27:16.421083Z",
     "shell.execute_reply": "2022-02-14T17:27:16.420273Z",
     "shell.execute_reply.started": "2022-02-14T16:39:24.747381Z"
    },
    "papermill": {
     "duration": 0.032275,
     "end_time": "2022-02-14T17:27:16.421255",
     "exception": false,
     "start_time": "2022-02-14T17:27:16.388980",
     "status": "completed"
    },
    "tags": []
   },
   "outputs": [
    {
     "name": "stdout",
     "output_type": "stream",
     "text": [
      "/kaggle/input/spotify-charts/charts.csv\n"
     ]
    }
   ],
   "source": [
    "# This Python 3 environment comes with many helpful analytics libraries installed\n",
    "# It is defined by the kaggle/python Docker image: https://github.com/kaggle/docker-python\n",
    "# For example, here's several helpful packages to load\n",
    "\n",
    "import numpy as np # linear algebra\n",
    "import pandas as pd # data processing, CSV file I/O (e.g. pd.read_csv)\n",
    "\n",
    "# Input data files are available in the read-only \"../input/\" directory\n",
    "# For example, running this (by clicking run or pressing Shift+Enter) will list all files under the input directory\n",
    "\n",
    "import os\n",
    "for dirname, _, filenames in os.walk('/kaggle/input'):\n",
    "    for filename in filenames:\n",
    "        print(os.path.join(dirname, filename))\n",
    "\n",
    "# You can write up to 20GB to the current directory (/kaggle/working/) that gets preserved as output when you create a version using \"Save & Run All\" \n",
    "# You can also write temporary files to /kaggle/temp/, but they won't be saved outside of the current session"
   ]
  },
  {
   "cell_type": "code",
   "execution_count": 2,
   "id": "473395c8",
   "metadata": {
    "execution": {
     "iopub.execute_input": "2022-02-14T17:27:16.443431Z",
     "iopub.status.busy": "2022-02-14T17:27:16.442698Z",
     "iopub.status.idle": "2022-02-14T17:28:53.963297Z",
     "shell.execute_reply": "2022-02-14T17:28:53.963890Z",
     "shell.execute_reply.started": "2022-02-14T16:42:58.380513Z"
    },
    "papermill": {
     "duration": 97.534158,
     "end_time": "2022-02-14T17:28:53.964087",
     "exception": false,
     "start_time": "2022-02-14T17:27:16.429929",
     "status": "completed"
    },
    "tags": []
   },
   "outputs": [
    {
     "name": "stdout",
     "output_type": "stream",
     "text": [
      "                         title  rank        date  \\\n",
      "0      Chantaje (feat. Maluma)     1  2017-01-01   \n",
      "1  Vente Pa' Ca (feat. Maluma)     2  2017-01-01   \n",
      "2   Reggaetón Lento (Bailemos)     3  2017-01-01   \n",
      "3                       Safari     4  2017-01-01   \n",
      "4                  Shaky Shaky     5  2017-01-01   \n",
      "\n",
      "                                  artist  \\\n",
      "0                                Shakira   \n",
      "1                           Ricky Martin   \n",
      "2                                   CNCO   \n",
      "3  J Balvin, Pharrell Williams, BIA, Sky   \n",
      "4                           Daddy Yankee   \n",
      "\n",
      "                                                 url     region   chart  \\\n",
      "0  https://open.spotify.com/track/6mICuAdrwEjh6Y6...  Argentina  top200   \n",
      "1  https://open.spotify.com/track/7DM4BPaS7uofFul...  Argentina  top200   \n",
      "2  https://open.spotify.com/track/3AEZUABDXNtecAO...  Argentina  top200   \n",
      "3  https://open.spotify.com/track/6rQSrBHf7HlZjtc...  Argentina  top200   \n",
      "4  https://open.spotify.com/track/58IL315gMSTD37D...  Argentina  top200   \n",
      "\n",
      "           trend   streams  \n",
      "0  SAME_POSITION  253019.0  \n",
      "1        MOVE_UP  223988.0  \n",
      "2      MOVE_DOWN  210943.0  \n",
      "3  SAME_POSITION  173865.0  \n",
      "4        MOVE_UP  153956.0  \n"
     ]
    }
   ],
   "source": [
    "df = pd.read_csv(r'/kaggle/input/spotify-charts/charts.csv')\n",
    "print(df.head())"
   ]
  },
  {
   "cell_type": "code",
   "execution_count": 3,
   "id": "4f105fd2",
   "metadata": {
    "execution": {
     "iopub.execute_input": "2022-02-14T17:28:53.989874Z",
     "iopub.status.busy": "2022-02-14T17:28:53.988962Z",
     "iopub.status.idle": "2022-02-14T17:28:53.993127Z",
     "shell.execute_reply": "2022-02-14T17:28:53.992538Z",
     "shell.execute_reply.started": "2022-02-14T16:46:09.146353Z"
    },
    "papermill": {
     "duration": 0.020779,
     "end_time": "2022-02-14T17:28:53.993278",
     "exception": false,
     "start_time": "2022-02-14T17:28:53.972499",
     "status": "completed"
    },
    "tags": []
   },
   "outputs": [
    {
     "data": {
      "text/plain": [
       "['title',\n",
       " 'rank',\n",
       " 'date',\n",
       " 'artist',\n",
       " 'url',\n",
       " 'region',\n",
       " 'chart',\n",
       " 'trend',\n",
       " 'streams']"
      ]
     },
     "execution_count": 3,
     "metadata": {},
     "output_type": "execute_result"
    }
   ],
   "source": [
    "list(df.columns)"
   ]
  },
  {
   "cell_type": "code",
   "execution_count": 4,
   "id": "c05e67f6",
   "metadata": {
    "execution": {
     "iopub.execute_input": "2022-02-14T17:28:55.522711Z",
     "iopub.status.busy": "2022-02-14T17:28:55.521724Z",
     "iopub.status.idle": "2022-02-14T17:28:56.001865Z",
     "shell.execute_reply": "2022-02-14T17:28:56.002335Z",
     "shell.execute_reply.started": "2022-02-14T16:47:29.063722Z"
    },
    "papermill": {
     "duration": 2.000401,
     "end_time": "2022-02-14T17:28:56.002523",
     "exception": false,
     "start_time": "2022-02-14T17:28:54.002122",
     "status": "completed"
    },
    "tags": []
   },
   "outputs": [
    {
     "data": {
      "text/plain": [
       "['Argentina',\n",
       " 'Australia',\n",
       " 'Brazil',\n",
       " 'Austria',\n",
       " 'Belgium',\n",
       " 'Colombia',\n",
       " 'Bolivia',\n",
       " 'Denmark',\n",
       " 'Bulgaria',\n",
       " 'Canada',\n",
       " 'Chile',\n",
       " 'Costa Rica',\n",
       " 'Czech Republic',\n",
       " 'Finland',\n",
       " 'Dominican Republic',\n",
       " 'Ecuador',\n",
       " 'El Salvador',\n",
       " 'Estonia',\n",
       " 'France',\n",
       " 'Germany',\n",
       " 'Global',\n",
       " 'Greece',\n",
       " 'Guatemala',\n",
       " 'Honduras',\n",
       " 'Hong Kong',\n",
       " 'Hungary',\n",
       " 'Iceland',\n",
       " 'Indonesia',\n",
       " 'Ireland',\n",
       " 'Italy',\n",
       " 'Japan',\n",
       " 'Latvia',\n",
       " 'Lithuania',\n",
       " 'Malaysia',\n",
       " 'Luxembourg',\n",
       " 'Mexico',\n",
       " 'Netherlands',\n",
       " 'New Zealand',\n",
       " 'Nicaragua',\n",
       " 'Norway',\n",
       " 'Panama',\n",
       " 'Paraguay',\n",
       " 'Peru',\n",
       " 'Philippines',\n",
       " 'Poland',\n",
       " 'Portugal',\n",
       " 'Singapore',\n",
       " 'Spain',\n",
       " 'Slovakia',\n",
       " 'Sweden',\n",
       " 'Taiwan',\n",
       " 'Switzerland',\n",
       " 'Turkey',\n",
       " 'United Kingdom',\n",
       " 'United States',\n",
       " 'Uruguay',\n",
       " 'Thailand',\n",
       " 'Andorra',\n",
       " 'Romania',\n",
       " 'Vietnam',\n",
       " 'Egypt',\n",
       " 'India',\n",
       " 'Israel',\n",
       " 'Morocco',\n",
       " 'Saudi Arabia',\n",
       " 'South Africa',\n",
       " 'United Arab Emirates',\n",
       " 'Russia',\n",
       " 'Ukraine',\n",
       " 'South Korea']"
      ]
     },
     "execution_count": 4,
     "metadata": {},
     "output_type": "execute_result"
    }
   ],
   "source": [
    "list(df.region.unique())"
   ]
  },
  {
   "cell_type": "code",
   "execution_count": 5,
   "id": "0ea09cc8",
   "metadata": {
    "execution": {
     "iopub.execute_input": "2022-02-14T17:29:01.605310Z",
     "iopub.status.busy": "2022-02-14T17:29:01.604297Z",
     "iopub.status.idle": "2022-02-14T17:29:01.648774Z",
     "shell.execute_reply": "2022-02-14T17:29:01.649314Z",
     "shell.execute_reply.started": "2022-02-14T16:52:03.186755Z"
    },
    "papermill": {
     "duration": 5.637441,
     "end_time": "2022-02-14T17:29:01.649490",
     "exception": false,
     "start_time": "2022-02-14T17:28:56.012049",
     "status": "completed"
    },
    "tags": []
   },
   "outputs": [
    {
     "data": {
      "text/plain": [
       "Ed Sheeran                                                                 387917\n",
       "Billie Eilish                                                              251825\n",
       "Post Malone                                                                211272\n",
       "Bad Bunny                                                                  203403\n",
       "Ariana Grande                                                              189914\n",
       "                                                                            ...  \n",
       "Ezhel, Patron, Anıl Piyancı, Sansar Salvo, Allame, Pit10, Beta, Kamufle         1\n",
       "Lips, George Mason, Rose McIver, Kimbra                                         1\n",
       "Joakim Kleven, KOH                                                              1\n",
       "Lazyloxy, Maiyarap, OG-ANIC, UrboyTJ                                            1\n",
       "Luna 99                                                                         1\n",
       "Name: artist, Length: 96156, dtype: int64"
      ]
     },
     "execution_count": 5,
     "metadata": {},
     "output_type": "execute_result"
    }
   ],
   "source": [
    "df['artist'].value_counts()"
   ]
  },
  {
   "cell_type": "code",
   "execution_count": 6,
   "id": "34e36edc",
   "metadata": {
    "execution": {
     "iopub.execute_input": "2022-02-14T17:29:01.673265Z",
     "iopub.status.busy": "2022-02-14T17:29:01.672520Z",
     "iopub.status.idle": "2022-02-14T17:29:05.713942Z",
     "shell.execute_reply": "2022-02-14T17:29:05.714484Z",
     "shell.execute_reply.started": "2022-02-14T16:54:18.007576Z"
    },
    "papermill": {
     "duration": 4.054955,
     "end_time": "2022-02-14T17:29:05.714701",
     "exception": false,
     "start_time": "2022-02-14T17:29:01.659746",
     "status": "completed"
    },
    "tags": []
   },
   "outputs": [
    {
     "name": "stdout",
     "output_type": "stream",
     "text": [
      "                      title  rank        date      artist  \\\n",
      "309       Thinking out Loud   109  2017-01-01  Ed Sheeran   \n",
      "341              Photograph   140  2017-01-01  Ed Sheeran   \n",
      "571              Photograph   169  2017-01-01  Ed Sheeran   \n",
      "695       Thinking out Loud    93  2017-01-01  Ed Sheeran   \n",
      "737              Photograph   135  2017-01-01  Ed Sheeran   \n",
      "...                     ...   ...         ...         ...   \n",
      "26173275         Bad Habits    11  2021-07-31  Ed Sheeran   \n",
      "26173336         Bad Habits    22  2021-07-31  Ed Sheeran   \n",
      "26173410         Bad Habits    46  2021-07-31  Ed Sheeran   \n",
      "26173427         Bad Habits    13  2021-07-31  Ed Sheeran   \n",
      "26173499         Bad Habits    36  2021-07-31  Ed Sheeran   \n",
      "\n",
      "                                                        url  \\\n",
      "309       https://open.spotify.com/track/1Slwb6dOYkBlWal...   \n",
      "341       https://open.spotify.com/track/6fxVffaTuwjgEk5...   \n",
      "571       https://open.spotify.com/track/6fxVffaTuwjgEk5...   \n",
      "695       https://open.spotify.com/track/1Slwb6dOYkBlWal...   \n",
      "737       https://open.spotify.com/track/6fxVffaTuwjgEk5...   \n",
      "...                                                     ...   \n",
      "26173275  https://open.spotify.com/track/6PQ88X9TkUIAUIZ...   \n",
      "26173336  https://open.spotify.com/track/6PQ88X9TkUIAUIZ...   \n",
      "26173410  https://open.spotify.com/track/6PQ88X9TkUIAUIZ...   \n",
      "26173427  https://open.spotify.com/track/6PQ88X9TkUIAUIZ...   \n",
      "26173499  https://open.spotify.com/track/6PQ88X9TkUIAUIZ...   \n",
      "\n",
      "                        region    chart          trend  streams  \n",
      "309                  Australia   top200        MOVE_UP  16061.0  \n",
      "341                  Australia   top200      NEW_ENTRY  12891.0  \n",
      "571                    Austria   top200      NEW_ENTRY   1303.0  \n",
      "695                    Belgium   top200        MOVE_UP   3495.0  \n",
      "737                    Belgium   top200      NEW_ENTRY   2780.0  \n",
      "...                        ...      ...            ...      ...  \n",
      "26173275  United Arab Emirates  viral50      MOVE_DOWN      NaN  \n",
      "26173336        United Kingdom  viral50      MOVE_DOWN      NaN  \n",
      "26173410         United States  viral50  SAME_POSITION      NaN  \n",
      "26173427               Uruguay  viral50  SAME_POSITION      NaN  \n",
      "26173499               Vietnam  viral50      MOVE_DOWN      NaN  \n",
      "\n",
      "[387917 rows x 9 columns]\n"
     ]
    }
   ],
   "source": [
    "print(df[df['artist'] == 'Ed Sheeran'])"
   ]
  }
 ],
 "metadata": {
  "kernelspec": {
   "display_name": "Python 3",
   "language": "python",
   "name": "python3"
  },
  "language_info": {
   "codemirror_mode": {
    "name": "ipython",
    "version": 3
   },
   "file_extension": ".py",
   "mimetype": "text/x-python",
   "name": "python",
   "nbconvert_exporter": "python",
   "pygments_lexer": "ipython3",
   "version": "3.7.12"
  },
  "papermill": {
   "default_parameters": {},
   "duration": 121.143821,
   "end_time": "2022-02-14T17:29:07.439966",
   "environment_variables": {},
   "exception": null,
   "input_path": "__notebook__.ipynb",
   "output_path": "__notebook__.ipynb",
   "parameters": {},
   "start_time": "2022-02-14T17:27:06.296145",
   "version": "2.3.3"
  }
 },
 "nbformat": 4,
 "nbformat_minor": 5
}
